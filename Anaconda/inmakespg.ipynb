{
 "cells": [
  {
   "cell_type": "code",
   "execution_count": 5,
   "id": "e8459113-1dcd-4f63-b26f-8ee9834b9764",
   "metadata": {},
   "outputs": [
    {
     "name": "stdout",
     "output_type": "stream",
     "text": [
      "5\n"
     ]
    }
   ],
   "source": [
    "print(2+3)"
   ]
  },
  {
   "cell_type": "code",
   "execution_count": 6,
   "id": "9358f9bc-42a1-43db-b350-10a6c932bc66",
   "metadata": {},
   "outputs": [
    {
     "data": {
      "text/plain": [
       "5"
      ]
     },
     "execution_count": 6,
     "metadata": {},
     "output_type": "execute_result"
    }
   ],
   "source": [
    "2+3"
   ]
  },
  {
   "cell_type": "code",
   "execution_count": 7,
   "id": "327eb5f0-1d02-4eff-88de-f5dfcbeb6dfe",
   "metadata": {},
   "outputs": [],
   "source": [
    "from pandas import Series\n",
    "se=Series([1,6,7,8,9])"
   ]
  },
  {
   "cell_type": "code",
   "execution_count": 8,
   "id": "ea52b94b-063e-42cc-87ec-bdfe6201645f",
   "metadata": {},
   "outputs": [
    {
     "data": {
      "text/plain": [
       "0    1\n",
       "1    6\n",
       "2    7\n",
       "3    8\n",
       "4    9\n",
       "dtype: int64"
      ]
     },
     "execution_count": 8,
     "metadata": {},
     "output_type": "execute_result"
    }
   ],
   "source": [
    "se"
   ]
  },
  {
   "cell_type": "code",
   "execution_count": 10,
   "id": "16678cad-5578-47bb-afdb-d78c94541c69",
   "metadata": {},
   "outputs": [
    {
     "data": {
      "text/plain": [
       "7"
      ]
     },
     "execution_count": 10,
     "metadata": {},
     "output_type": "execute_result"
    }
   ],
   "source": [
    "se[2]"
   ]
  },
  {
   "cell_type": "code",
   "execution_count": 11,
   "id": "5890eeb7-76a5-4244-b48e-a48399ed5a66",
   "metadata": {},
   "outputs": [
    {
     "data": {
      "text/plain": [
       "a    100\n",
       "b    200\n",
       "c    300\n",
       "dtype: int64"
      ]
     },
     "execution_count": 11,
     "metadata": {},
     "output_type": "execute_result"
    }
   ],
   "source": [
    "se2=Series([100,200,300],index=['a','b','c'])\n",
    "se2"
   ]
  },
  {
   "cell_type": "code",
   "execution_count": 12,
   "id": "0e8a14d0-f2d2-43a0-acf9-6135276e07cb",
   "metadata": {},
   "outputs": [
    {
     "data": {
      "text/plain": [
       "300"
      ]
     },
     "execution_count": 12,
     "metadata": {},
     "output_type": "execute_result"
    }
   ],
   "source": [
    "se2['c']"
   ]
  },
  {
   "cell_type": "code",
   "execution_count": 13,
   "id": "3a163987-6a47-47af-9435-aca3378b10e9",
   "metadata": {},
   "outputs": [
    {
     "data": {
      "text/plain": [
       "{'John': 1000, 'Tina': 2000, 'Raj': 950}"
      ]
     },
     "execution_count": 13,
     "metadata": {},
     "output_type": "execute_result"
    }
   ],
   "source": [
    "salary={'John':1000,\"Tina\":2000,\"Raj\":950}\n",
    "salary"
   ]
  },
  {
   "cell_type": "code",
   "execution_count": 14,
   "id": "8509806e-a3f4-4e38-8c7b-1893b7b77d51",
   "metadata": {},
   "outputs": [
    {
     "data": {
      "text/plain": [
       "John    1000\n",
       "Tina    2000\n",
       "Raj      950\n",
       "dtype: int64"
      ]
     },
     "execution_count": 14,
     "metadata": {},
     "output_type": "execute_result"
    }
   ],
   "source": [
    "se3=Series(salary)\n",
    "se3"
   ]
  },
  {
   "cell_type": "code",
   "execution_count": 16,
   "id": "219e601b-260d-47d8-bffb-9e5d3524f0bf",
   "metadata": {},
   "outputs": [
    {
     "data": {
      "text/plain": [
       "2000"
      ]
     },
     "execution_count": 16,
     "metadata": {},
     "output_type": "execute_result"
    }
   ],
   "source": [
    "se3['Tina']"
   ]
  },
  {
   "cell_type": "code",
   "execution_count": null,
   "id": "267d156e-efe4-4a20-9050-69a30d1305f2",
   "metadata": {},
   "outputs": [],
   "source": []
  }
 ],
 "metadata": {
  "kernelspec": {
   "display_name": "Python 3 (ipykernel)",
   "language": "python",
   "name": "python3"
  },
  "language_info": {
   "codemirror_mode": {
    "name": "ipython",
    "version": 3
   },
   "file_extension": ".py",
   "mimetype": "text/x-python",
   "name": "python",
   "nbconvert_exporter": "python",
   "pygments_lexer": "ipython3",
   "version": "3.11.7"
  }
 },
 "nbformat": 4,
 "nbformat_minor": 5
}
